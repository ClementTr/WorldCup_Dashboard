{
 "cells": [
  {
   "cell_type": "code",
   "execution_count": 1,
   "metadata": {},
   "outputs": [],
   "source": [
    "from selenium.common.exceptions import TimeoutException\n",
    "from selenium.webdriver.support.ui import WebDriverWait\n",
    "from selenium import webdriver\n",
    "import pandas as pd\n",
    "import numpy as np\n",
    "import time"
   ]
  },
  {
   "cell_type": "code",
   "execution_count": 2,
   "metadata": {},
   "outputs": [],
   "source": [
    "dict_URL = {\"Russie\": \"https://www.transfermarkt.fr/russland/startseite/verein/3448\",\n",
    "            \"Arabie\": \"https://www.transfermarkt.fr/jumplist/startseite/verein/3807\",\n",
    "            \"Portugal\": \"https://www.transfermarkt.fr/jumplist/startseite/verein/3300\",\n",
    "            \"Espagne\": \"https://www.transfermarkt.fr/espagne/startseite/verein/3375\",\n",
    "            \"France\": \"https://www.transfermarkt.fr/jumplist/startseite/verein/3377\",\n",
    "            \"Australie\": \"https://www.transfermarkt.fr/jumplist/startseite/verein/3433\",\n",
    "            \"Bresil\": \"https://www.transfermarkt.fr/jumplist/startseite/verein/3439\",\n",
    "            \"Suisse\": \"https://www.transfermarkt.fr/jumplist/startseite/verein/3384\",\n",
    "            \"Tunisie\": \"https://www.transfermarkt.fr/jumplist/startseite/verein/3670\",\n",
    "            \"Angleterre\": \"https://www.transfermarkt.fr/jumplist/startseite/verein/3299\",\n",
    "            \"Egypte\": \"https://www.transfermarkt.fr/jumplist/startseite/verein/3672\",\n",
    "            \"Iran\": \"https://www.transfermarkt.fr/jumplist/startseite/verein/3582\",\n",
    "            \"Perou\": \"https://www.transfermarkt.fr/jumplist/startseite/verein/3584\",\n",
    "            \"Costa\": \"https://www.transfermarkt.fr/jumplist/startseite/verein/8497\",\n",
    "            \"Allemagne\": \"https://www.transfermarkt.fr/allemagne/startseite/verein/3262\",\n",
    "            \"Suede\": \"https://www.transfermarkt.fr/jumplist/startseite/verein/3557\",\n",
    "            \"Pologne\": \"https://www.transfermarkt.fr/jumplist/startseite/verein/3442\",\n",
    "            \"Colombie\": \"https://www.transfermarkt.fr/kolumbien/startseite/verein/3816\",\n",
    "            \"Maroc\": \"https://www.transfermarkt.fr/jumplist/startseite/verein/3575\",\n",
    "            \"Danemark\": \"https://www.transfermarkt.fr/jumplist/startseite/verein/3436\",\n",
    "            \"Serbie\": \"https://www.transfermarkt.fr/jumplist/startseite/verein/3438\",\n",
    "            \"Belgique\": \"https://www.transfermarkt.fr/jumplist/startseite/verein/3382\"}"
   ]
  },
  {
   "cell_type": "code",
   "execution_count": 3,
   "metadata": {},
   "outputs": [],
   "source": [
    "browser = webdriver.Firefox()\n",
    "browser.maximize_window()\n",
    "dict_df = {}\n",
    "\n",
    "for country, url in dict_URL.items():\n",
    "    browser.get(url)\n",
    "    time.sleep(4)\n",
    "    players_jobs = browser.find_elements_by_xpath(\"//table[@class='inline-table']/tbody\");\n",
    "\n",
    "    list_players = []\n",
    "    list_jobs = []\n",
    "    for pj in players_jobs:\n",
    "        list_players.append(pj.text.split('\\n')[0])\n",
    "        list_jobs.append(pj.text.split('\\n')[1])\n",
    "    df = pd.DataFrame({\"Player\": list_players, \"Post\": list_jobs, \"Country\": country})\n",
    "    dict_df[country] = df\n",
    "    \n",
    "browser.quit()\n",
    "df_full = pd.concat([dict_df[k] for k in dict_URL.keys()]) "
   ]
  },
  {
   "cell_type": "code",
   "execution_count": 7,
   "metadata": {},
   "outputs": [],
   "source": [
    "df_full.to_csv(\"data_worldcup.csv\", index=False)"
   ]
  },
  {
   "cell_type": "code",
   "execution_count": null,
   "metadata": {},
   "outputs": [],
   "source": []
  }
 ],
 "metadata": {
  "kernelspec": {
   "display_name": "Py3_BetIT",
   "language": "python",
   "name": "py3_betit"
  },
  "language_info": {
   "codemirror_mode": {
    "name": "ipython",
    "version": 3
   },
   "file_extension": ".py",
   "mimetype": "text/x-python",
   "name": "python",
   "nbconvert_exporter": "python",
   "pygments_lexer": "ipython3",
   "version": "3.6.2"
  },
  "toc": {
   "nav_menu": {},
   "number_sections": true,
   "sideBar": true,
   "skip_h1_title": false,
   "toc_cell": false,
   "toc_position": {},
   "toc_section_display": "block",
   "toc_window_display": false
  }
 },
 "nbformat": 4,
 "nbformat_minor": 2
}
