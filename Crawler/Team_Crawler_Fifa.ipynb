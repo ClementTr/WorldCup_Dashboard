{
 "cells": [
  {
   "cell_type": "code",
   "execution_count": 1,
   "metadata": {},
   "outputs": [],
   "source": [
    "from selenium.common.exceptions import TimeoutException, NoSuchElementException\n",
    "from selenium.webdriver.support.ui import WebDriverWait\n",
    "from selenium import webdriver\n",
    "import pandas as pd\n",
    "import numpy as np\n",
    "import requests\n",
    "import time"
   ]
  },
  {
   "cell_type": "code",
   "execution_count": null,
   "metadata": {},
   "outputs": [
    {
     "name": "stdout",
     "output_type": "stream",
     "text": [
      "HUGO LLORIS\n",
      "STEVE MANDANDA\n",
      "ALPHONSE AREOLA\n",
      "BENJAMIN PAVARD\n",
      "PRESNEL KIMPEMBE\n",
      "RAPHAEL VARANE\n",
      "SAMUEL UMTITI\n"
     ]
    }
   ],
   "source": [
    "def get_team_df(dict_correspondances, countries):\n",
    "    player_name, player_country, player_position, player_age, player_description, player_link = [], [], [], [], [], []\n",
    "    browser = webdriver.Firefox()\n",
    "    browser.get(\"https://www.fifa.com/worldcup/teams/\")\n",
    "    time.sleep(1)\n",
    "    \n",
    "    for country in countries:\n",
    "        element = browser.find_elements_by_xpath(\"//div[@class='fi-team-card__flag']\")[dict_correspondances[country]]\n",
    "        browser.execute_script(\"arguments[0].click();\", element)\n",
    "        time.sleep(1)\n",
    "\n",
    "        for p in range(23):\n",
    "            player = browser.find_elements_by_xpath(\"//div[@class='fi-p']/a[@class='fi-p--link']\")[p]\n",
    "            new_url = player.get_attribute('href')\n",
    "            browser.get(new_url)\n",
    "            time.sleep(1)\n",
    "            player_name.append(browser.find_element_by_xpath(\"//div[@class='fi-p__name']\").text)\n",
    "            print(player_name[-1])\n",
    "            player_country.append(country)\n",
    "            player_position.append(browser.find_element_by_xpath(\"//div[@class='fi-p__role']\").text)\n",
    "            player_age.append(browser.find_element_by_xpath(\"//div[@class='fi-p__profile-number__number']\").text)\n",
    "            try:\n",
    "                player_description.append(browser.find_element_by_xpath(\"//div[@class='fi-p__profile-text']\").text)\n",
    "            except NoSuchElementException:\n",
    "                player_description.append(\"\")\n",
    "            my_img = browser.find_elements_by_tag_name('image')\n",
    "            for image in my_img:\n",
    "                link = image.get_attribute('xlink:href')\n",
    "                player_link.append(link)\n",
    "            browser.back()\n",
    "            time.sleep(1)\n",
    "\n",
    "        browser.get(\"https://www.fifa.com/worldcup/teams/\")\n",
    "        time.sleep(2)\n",
    "    \n",
    "    df = pd.DataFrame({\"Name\":player_name, \"Country\":player_country, \"Position\":player_position, \"Age\":player_age, \n",
    "                   \"Description\":player_description, \"Link\":player_link})\n",
    "    df[\"Firstname\"] = df[\"Name\"].apply(lambda x: x.split()[0].capitalize())\n",
    "    df[\"Lastname\"] = df[\"Name\"].apply(lambda x: \"\".join(x.split()[1:]).capitalize())\n",
    "    return df\n",
    "\n",
    "dict_correspondances = {\"Australie\": 0, \"Belgique\": 2, \"Bresil\": 3,\n",
    "                        \"Colombie\": 4, \"Costa\": 5, \"Croatie\": 6,\n",
    "                        \"Danemark\": 7, \"Egypte\": 8, \"Angleterre\": 9,\n",
    "                        \"France\": 10, \"Allemagne\": 11, \"Iran\": 13,\n",
    "                        \"Maroc\": 17, \"Perou\": 20, \"Pologne\": 21,\n",
    "                        \"Portugal\": 22, \"Russie\": 23, \"Arabie\": 24,\n",
    "                        \"Serbie\": 26, \"Espagne\": 27, \"Suede\": 28,\n",
    "                        \"Suisse\": 29, \"Tunisie\": 30}\n",
    "\n",
    "df = get_team_df(dict_correspondances, [\"France\"])"
   ]
  },
  {
   "cell_type": "code",
   "execution_count": 3,
   "metadata": {},
   "outputs": [
    {
     "data": {
      "text/plain": [
       "(184, 8)"
      ]
     },
     "execution_count": 3,
     "metadata": {},
     "output_type": "execute_result"
    }
   ],
   "source": [
    "df.shape"
   ]
  },
  {
   "cell_type": "code",
   "execution_count": 4,
   "metadata": {},
   "outputs": [],
   "source": [
    "def image_downloader(name, team, link):\n",
    "    with open(team.lower() + '/' + name.capitalize() + '.jpg', 'wb') as handle:\n",
    "            response = requests.get(link, stream=True)\n",
    "\n",
    "            if not response.ok:\n",
    "                print(response)\n",
    "\n",
    "            for block in response.iter_content(1024):\n",
    "                if not block:\n",
    "                    break\n",
    "\n",
    "                handle.write(block)\n",
    "\n",
    "for n, t, l in zip(df[\"Lastname\"].tolist(), df[\"Country\"].tolist(), df[\"Link\"].tolist()):\n",
    "    image_downloader(n, t, l)"
   ]
  },
  {
   "cell_type": "code",
   "execution_count": 5,
   "metadata": {},
   "outputs": [],
   "source": [
    "df.to_csv(\"df_RUS_ARA_IRA_MAR_PER_POR_ESP.csv\", index=False)"
   ]
  },
  {
   "cell_type": "code",
   "execution_count": null,
   "metadata": {},
   "outputs": [],
   "source": []
  }
 ],
 "metadata": {
  "kernelspec": {
   "display_name": "Py3_BetIT",
   "language": "python",
   "name": "py3_betit"
  },
  "language_info": {
   "codemirror_mode": {
    "name": "ipython",
    "version": 3
   },
   "file_extension": ".py",
   "mimetype": "text/x-python",
   "name": "python",
   "nbconvert_exporter": "python",
   "pygments_lexer": "ipython3",
   "version": "3.6.2"
  },
  "toc": {
   "nav_menu": {},
   "number_sections": true,
   "sideBar": true,
   "skip_h1_title": false,
   "toc_cell": false,
   "toc_position": {},
   "toc_section_display": "block",
   "toc_window_display": false
  }
 },
 "nbformat": 4,
 "nbformat_minor": 2
}
