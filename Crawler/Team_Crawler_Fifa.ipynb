{
 "cells": [
  {
   "cell_type": "markdown",
   "metadata": {},
   "source": [
    "<font size=8>\n",
    "    <center>FIFA Crawler</center>\n",
    "</font>\n",
    "<br>"
   ]
  },
  {
   "cell_type": "markdown",
   "metadata": {
    "toc": "true"
   },
   "source": [
    " # Table of Contents\n",
    "<div class=\"toc\" style=\"margin-top: 1em;\"><ul class=\"toc-item\" id=\"toc-level0\"><li><span><a href=\"http://localhost:8888/notebooks/Crawler/Team_Crawler_Fifa.ipynb#Librairies\" data-toc-modified-id=\"Librairies-1\"><span class=\"toc-item-num\">1&nbsp;&nbsp;</span>Librairies</a></span></li><li><span><a href=\"http://localhost:8888/notebooks/Crawler/Team_Crawler_Fifa.ipynb#Fifa-Players-Crawler\" data-toc-modified-id=\"Fifa-Players-Crawler-2\"><span class=\"toc-item-num\">2&nbsp;&nbsp;</span>Fifa Players Crawler</a></span></li><li><span><a href=\"http://localhost:8888/notebooks/Crawler/Team_Crawler_Fifa.ipynb#Data-Processing\" data-toc-modified-id=\"Data-Processing-3\"><span class=\"toc-item-num\">3&nbsp;&nbsp;</span>Data Processing</a></span><ul class=\"toc-item\"><li><span><a href=\"http://localhost:8888/notebooks/Crawler/Team_Crawler_Fifa.ipynb#Change-Lastname-&amp;-Add-Country-Trigramme\" data-toc-modified-id=\"Change-Lastname-&amp;-Add-Country-Trigramme-3.1\"><span class=\"toc-item-num\">3.1&nbsp;&nbsp;</span>Change Lastname &amp; Add Country Trigramme</a></span></li><li><span><a href=\"http://localhost:8888/notebooks/Crawler/Team_Crawler_Fifa.ipynb#Manage-Duplicates-Lastname\" data-toc-modified-id=\"Manage-Duplicates-Lastname-3.2\"><span class=\"toc-item-num\">3.2&nbsp;&nbsp;</span>Manage Duplicates Lastname</a></span></li></ul></li><li><span><a href=\"http://localhost:8888/notebooks/Crawler/Team_Crawler_Fifa.ipynb#Pictures-Saver\" data-toc-modified-id=\"Pictures-Saver-4\"><span class=\"toc-item-num\">4&nbsp;&nbsp;</span>Pictures Saver</a></span></li></ul></div>"
   ]
  },
  {
   "cell_type": "markdown",
   "metadata": {},
   "source": [
    "# Librairies"
   ]
  },
  {
   "cell_type": "code",
   "execution_count": 1,
   "metadata": {},
   "outputs": [],
   "source": [
    "from selenium.common.exceptions import TimeoutException, NoSuchElementException\n",
    "from selenium.webdriver.support.ui import WebDriverWait\n",
    "from selenium import webdriver\n",
    "import pandas as pd\n",
    "import numpy as np\n",
    "import requests\n",
    "import time"
   ]
  },
  {
   "cell_type": "markdown",
   "metadata": {},
   "source": [
    "# Fifa Players Crawler"
   ]
  },
  {
   "cell_type": "code",
   "execution_count": 7,
   "metadata": {},
   "outputs": [],
   "source": [
    "def get_team_df(dict_correspondances, countries):\n",
    "    player_name, player_country, player_position, player_age, player_description, player_link = [], [], [], [], [], []\n",
    "    browser = webdriver.Firefox()\n",
    "    browser.get(\"https://www.fifa.com/worldcup/teams/\")\n",
    "    time.sleep(1)\n",
    "    \n",
    "    for country in countries:\n",
    "        element = browser.find_elements_by_xpath(\"//div[@class='fi-team-card__flag']\")[dict_correspondances[country]]\n",
    "        browser.execute_script(\"arguments[0].click();\", element)\n",
    "        time.sleep(1)\n",
    "\n",
    "        for p in range(23):\n",
    "            try:\n",
    "                player = browser.find_elements_by_xpath(\"//div[@class='fi-p']/a[@class='fi-p--link']\")[p]\n",
    "                new_url = player.get_attribute('href')\n",
    "                browser.get(new_url)\n",
    "                time.sleep(1)\n",
    "                player_name.append(browser.find_element_by_xpath(\"//div[@class='fi-p__name']\").text)\n",
    "                print(player_name[-1])\n",
    "                player_country.append(country)\n",
    "                player_position.append(browser.find_element_by_xpath(\"//div[@class='fi-p__role']\").text)\n",
    "                player_age.append(browser.find_element_by_xpath(\"//div[@class='fi-p__profile-number__number']\").text)\n",
    "                try:\n",
    "                    player_description.append(browser.find_element_by_xpath(\"//div[@class='fi-p__profile-text']\").text)\n",
    "                except NoSuchElementException:\n",
    "                    player_description.append(\"\")\n",
    "                my_img = browser.find_elements_by_tag_name('image')\n",
    "                for image in my_img:\n",
    "                    link = image.get_attribute('xlink:href')\n",
    "                    player_link.append(link)\n",
    "                browser.back()\n",
    "                time.sleep(1)\n",
    "            except IndexError:\n",
    "                print()\n",
    "\n",
    "        browser.get(\"https://www.fifa.com/worldcup/teams/\")\n",
    "        time.sleep(2)\n",
    "    \n",
    "    df = pd.DataFrame({\"Name\":player_name, \"Country\":player_country, \"Position\":player_position, \"Age\":player_age, \n",
    "                   \"Description\":player_description, \"Link\":player_link})\n",
    "    df[\"Firstname\"] = df[\"Name\"].apply(lambda x: x.split()[0].capitalize())\n",
    "    df[\"Lastname\"] = df[\"Name\"].apply(lambda x: \"\".join(x.split()[1:]).capitalize())\n",
    "    return df\n",
    "\n",
    "dict_correspondances = {\"Australia\": 0, \"Belgium\": 2, \"Brazil\": 3,\n",
    "                        \"Colombia\": 4, \"Costa\": 5, \"Croatia\": 6,\n",
    "                        \"Denmark\": 7, \"Egypt\": 8, \"England\": 9,\n",
    "                        \"France\": 10, \"Germany\": 11, \"Iran\": 13,\n",
    "                        \"Morocco\": 17, \"Peru\": 20, \"Poland\": 21,\n",
    "                        \"Portugal\": 22, \"Russia\": 23, \"Arabia\": 24,\n",
    "                        \"Senegal\":25, \"Serbia\": 26, \"Spain\": 27, \n",
    "                        \"Sweden\": 28, \"Switzerland\": 29, \"Tunisia\": 30, \n",
    "                        \"Uruguay\": 31}\n",
    "\n",
    "#df = get_team_df(dict_correspondances, dict_correspondances.keys())"
   ]
  },
  {
   "cell_type": "code",
   "execution_count": 27,
   "metadata": {},
   "outputs": [
    {
     "data": {
      "text/plain": [
       "(543, 8)"
      ]
     },
     "execution_count": 27,
     "metadata": {},
     "output_type": "execute_result"
    }
   ],
   "source": [
    "df.to_csv(\"df_full.csv\", index=False)\n",
    "df.shape"
   ]
  },
  {
   "cell_type": "markdown",
   "metadata": {},
   "source": [
    "# Data Processing\n",
    "## Change Lastname & Add Country Trigramme"
   ]
  },
  {
   "cell_type": "code",
   "execution_count": 53,
   "metadata": {},
   "outputs": [
    {
     "name": "stdout",
     "output_type": "stream",
     "text": [
      "(543, 8)\n"
     ]
    },
    {
     "data": {
      "text/html": [
       "<div>\n",
       "<style>\n",
       "    .dataframe thead tr:only-child th {\n",
       "        text-align: right;\n",
       "    }\n",
       "\n",
       "    .dataframe thead th {\n",
       "        text-align: left;\n",
       "    }\n",
       "\n",
       "    .dataframe tbody tr th {\n",
       "        vertical-align: top;\n",
       "    }\n",
       "</style>\n",
       "<table border=\"1\" class=\"dataframe\">\n",
       "  <thead>\n",
       "    <tr style=\"text-align: right;\">\n",
       "      <th></th>\n",
       "      <th>Age</th>\n",
       "      <th>Country</th>\n",
       "      <th>Description</th>\n",
       "      <th>Link</th>\n",
       "      <th>Name</th>\n",
       "      <th>Position</th>\n",
       "      <th>Firstname</th>\n",
       "      <th>Lastname</th>\n",
       "    </tr>\n",
       "  </thead>\n",
       "  <tbody>\n",
       "    <tr>\n",
       "      <th>0</th>\n",
       "      <td>32</td>\n",
       "      <td>Australia</td>\n",
       "      <td>Solidly built and a born competitor, Nahuel Gu...</td>\n",
       "      <td>https://api.fifa.com/api/v1/picture/players/20...</td>\n",
       "      <td>NAHUEL GUZMAN</td>\n",
       "      <td>Goalkeeper</td>\n",
       "      <td>Nahuel</td>\n",
       "      <td>Guzman</td>\n",
       "    </tr>\n",
       "    <tr>\n",
       "      <th>1</th>\n",
       "      <td>31</td>\n",
       "      <td>Australia</td>\n",
       "      <td>Franco Armani owes his place at Russia 2018 to...</td>\n",
       "      <td>https://api.fifa.com/api/v1/picture/players/20...</td>\n",
       "      <td>FRANCO ARMANI</td>\n",
       "      <td>Goalkeeper</td>\n",
       "      <td>Franco</td>\n",
       "      <td>Armani</td>\n",
       "    </tr>\n",
       "    <tr>\n",
       "      <th>2</th>\n",
       "      <td>36</td>\n",
       "      <td>Australia</td>\n",
       "      <td>Willy Caballero is an experienced, unfussy goa...</td>\n",
       "      <td>https://api.fifa.com/api/v1/picture/players/20...</td>\n",
       "      <td>WILFREDO CABALLERO</td>\n",
       "      <td>Goalkeeper</td>\n",
       "      <td>Wilfredo</td>\n",
       "      <td>Caballero</td>\n",
       "    </tr>\n",
       "    <tr>\n",
       "      <th>3</th>\n",
       "      <td>31</td>\n",
       "      <td>Australia</td>\n",
       "      <td>NaN</td>\n",
       "      <td>https://api.fifa.com/api/v1/picture/players/20...</td>\n",
       "      <td>GABRIEL MERCADO</td>\n",
       "      <td>Defender</td>\n",
       "      <td>Gabriel</td>\n",
       "      <td>Mercado</td>\n",
       "    </tr>\n",
       "    <tr>\n",
       "      <th>4</th>\n",
       "      <td>25</td>\n",
       "      <td>Australia</td>\n",
       "      <td>“A natural full-back,” remarked Jorge Sampaoli...</td>\n",
       "      <td>https://api.fifa.com/api/v1/picture/players/20...</td>\n",
       "      <td>NICOLAS TAGLIAFICO</td>\n",
       "      <td>Defender</td>\n",
       "      <td>Nicolas</td>\n",
       "      <td>Tagliafico</td>\n",
       "    </tr>\n",
       "  </tbody>\n",
       "</table>\n",
       "</div>"
      ],
      "text/plain": [
       "   Age    Country                                        Description  \\\n",
       "0   32  Australia  Solidly built and a born competitor, Nahuel Gu...   \n",
       "1   31  Australia  Franco Armani owes his place at Russia 2018 to...   \n",
       "2   36  Australia  Willy Caballero is an experienced, unfussy goa...   \n",
       "3   31  Australia                                                NaN   \n",
       "4   25  Australia  “A natural full-back,” remarked Jorge Sampaoli...   \n",
       "\n",
       "                                                Link                Name  \\\n",
       "0  https://api.fifa.com/api/v1/picture/players/20...       NAHUEL GUZMAN   \n",
       "1  https://api.fifa.com/api/v1/picture/players/20...       FRANCO ARMANI   \n",
       "2  https://api.fifa.com/api/v1/picture/players/20...  WILFREDO CABALLERO   \n",
       "3  https://api.fifa.com/api/v1/picture/players/20...     GABRIEL MERCADO   \n",
       "4  https://api.fifa.com/api/v1/picture/players/20...  NICOLAS TAGLIAFICO   \n",
       "\n",
       "     Position Firstname    Lastname  \n",
       "0  Goalkeeper    Nahuel      Guzman  \n",
       "1  Goalkeeper    Franco      Armani  \n",
       "2  Goalkeeper  Wilfredo   Caballero  \n",
       "3    Defender   Gabriel     Mercado  \n",
       "4    Defender   Nicolas  Tagliafico  "
      ]
     },
     "execution_count": 53,
     "metadata": {},
     "output_type": "execute_result"
    }
   ],
   "source": [
    "df = pd.read_csv(\"df_full.csv\")\n",
    "print(df.shape)\n",
    "df.head()"
   ]
  },
  {
   "cell_type": "code",
   "execution_count": 54,
   "metadata": {},
   "outputs": [],
   "source": [
    "def get_lastname(text):\n",
    "    text = text.split()\n",
    "    if len(text) == 1:\n",
    "        return text[0].capitalize()\n",
    "    else:\n",
    "        return ''.join(text[1:]).capitalize()\n",
    "    \n",
    "def get_trigramme(text):\n",
    "    return dict_trig[text]\n",
    "\n",
    "dict_trig = {\"Australia\": 'AUS', \"Belgium\": 'BEL', \"Brazil\": 'BRA', \"Colombia\": 'COL', \n",
    "             \"Costa\": 'CRC', \"Croatia\": 'HRV', \"Denmark\": 'DEN', \"Egypt\": 'EGY', \"England\": 'ENG',\n",
    "             \"France\": 'FRA', \"Germany\": 'GER', \"Iran\": 'IRN', \"Morocco\": 'MAR', \"Peru\": 'PER', \n",
    "             \"Poland\": 'POL', \"Portugal\": 'POR', \"Russia\": 'RUS', \"Arabia\": 'KSA', \"Serbia\": 'SER', \n",
    "             \"Spain\": 'SPA', \"Sweden\": 'SWE', \"Switzerland\": 'SWI', \"Tunisia\": 'TUN','United_States':'USA',\n",
    "             \"Senegal\":\"SEN\", \"Uruguay\":\"URU\"}\n",
    "\n",
    "df[\"Lastname\"] = df[\"Name\"].apply(lambda x: get_lastname(x))\n",
    "df[\"Trigramme\"] = df[\"Country\"].apply(lambda x: get_trigramme(x))"
   ]
  },
  {
   "cell_type": "markdown",
   "metadata": {},
   "source": [
    "## Manage Duplicates Lastname"
   ]
  },
  {
   "cell_type": "code",
   "execution_count": 55,
   "metadata": {},
   "outputs": [
    {
     "name": "stdout",
     "output_type": "stream",
     "text": [
      "Silva        7\n",
      "Rodriguez    4\n",
      "Fernandes    4\n",
      "Sanchez      3\n",
      "Hawsawi      3\n",
      "Hazard       2\n",
      "Jorgensen    2\n",
      "Cuadrado     2\n",
      "Dembele      2\n",
      "Kalinic      2\n",
      "Miranchuk    2\n",
      "Ramos        2\n",
      "Amrabat      2\n",
      "Gomez        2\n",
      "Guzman       2\n",
      "Costa        2\n",
      "Name: Lastname, dtype: int64\n"
     ]
    }
   ],
   "source": [
    "print(df[\"Lastname\"].value_counts()[:16])"
   ]
  },
  {
   "cell_type": "code",
   "execution_count": 56,
   "metadata": {},
   "outputs": [],
   "source": [
    "df.loc[df.Name == \"BERNARDO SILVA\", 'Lastname'] = \"Bernardo\"\n",
    "df.loc[df.Name == \"ADRIEN SILVA\", 'Lastname'] = \"Adrien\"\n",
    "df.loc[df.Name == \"ANDRE SILVA\", 'Lastname'] = \"Andre\"\n",
    "df.loc[df.Name == \"BRUNO FERNANDES\", 'Lastname'] = \"Bruno\"\n",
    "df.loc[df.Name == \"OMAR HAWSAWI\", 'Lastname'] = \"Omar\"\n",
    "df.loc[df.Name == \"MOTAZ HAWSAWI\", 'Lastname'] = \"Motaz\"\n",
    "df.loc[df.Name == \"ALEXEY MIRANCHUK\", 'Lastname'] = \"Alexey\"\n",
    "df.loc[df.Name == \"NOUREDDINE AMRABAT\", 'Lastname'] = \"Noureddine\"\n",
    "df.loc[df.Name == \"MATHIAS JORGENSEN\", 'Lastname'] = \"Mathias\"\n",
    "df.loc[df.Name == \"JOSE CUADRADO\", 'Lastname'] = \"Jose\"\n",
    "df.loc[df.Name == \"LOVRE KALINIC\", 'Lastname'] = \"Lovre\"\n",
    "df.loc[df.Name == \"DAVINSON SANCHEZ\", 'Lastname'] = \"Davinson\"\n",
    "df.loc[df.Name == \"THORGAN HAZARD\", 'Lastname'] = \"Thorgan\"\n",
    "df.loc[df.Name == \"KHADIM NDIAYE\", 'Lastname'] = \"Khadim\"\n",
    "df.loc[df.Name == \"ALFRED NDIAYE\", 'Lastname'] = \"Alfred\"\n",
    "df.loc[df.Name == \"PAPE ALIOUNE NDIAYE\", 'Lastname'] = \"Alioune\"\n",
    "df.loc[df.Name == \"GASTON SILVA\", 'Lastname'] = \"Gaston\""
   ]
  },
  {
   "cell_type": "code",
   "execution_count": 57,
   "metadata": {},
   "outputs": [],
   "source": [
    "df_worldcup = df.rename(columns={\"Trigramme\":\"Code\",\"Position\":\"Post\"}).copy()\n",
    "df_worldcup.to_csv(\"data_worldcup.csv\", index=False)"
   ]
  },
  {
   "cell_type": "markdown",
   "metadata": {},
   "source": [
    "# Pictures Saver"
   ]
  },
  {
   "cell_type": "code",
   "execution_count": 3,
   "metadata": {},
   "outputs": [
    {
     "name": "stdout",
     "output_type": "stream",
     "text": [
      "Team_Crawler_Fifa.ipynb data_worldcup.xlsx      df_full.csv\r\n",
      "data_worldcup.csv       data_worldcup_old.csv\r\n"
     ]
    }
   ],
   "source": [
    "!ls"
   ]
  },
  {
   "cell_type": "code",
   "execution_count": 4,
   "metadata": {},
   "outputs": [
    {
     "data": {
      "text/html": [
       "<div>\n",
       "<style>\n",
       "    .dataframe thead tr:only-child th {\n",
       "        text-align: right;\n",
       "    }\n",
       "\n",
       "    .dataframe thead th {\n",
       "        text-align: left;\n",
       "    }\n",
       "\n",
       "    .dataframe tbody tr th {\n",
       "        vertical-align: top;\n",
       "    }\n",
       "</style>\n",
       "<table border=\"1\" class=\"dataframe\">\n",
       "  <thead>\n",
       "    <tr style=\"text-align: right;\">\n",
       "      <th></th>\n",
       "      <th>Age</th>\n",
       "      <th>Country</th>\n",
       "      <th>Description</th>\n",
       "      <th>Link</th>\n",
       "      <th>Name</th>\n",
       "      <th>Post</th>\n",
       "      <th>Firstname</th>\n",
       "      <th>Lastname</th>\n",
       "      <th>Code</th>\n",
       "    </tr>\n",
       "  </thead>\n",
       "  <tbody>\n",
       "    <tr>\n",
       "      <th>0</th>\n",
       "      <td>32</td>\n",
       "      <td>Australia</td>\n",
       "      <td>Solidly built and a born competitor, Nahuel Gu...</td>\n",
       "      <td>https://api.fifa.com/api/v1/picture/players/20...</td>\n",
       "      <td>NAHUEL GUZMAN</td>\n",
       "      <td>Goalkeeper</td>\n",
       "      <td>Nahuel</td>\n",
       "      <td>Guzman</td>\n",
       "      <td>AUS</td>\n",
       "    </tr>\n",
       "    <tr>\n",
       "      <th>1</th>\n",
       "      <td>31</td>\n",
       "      <td>Australia</td>\n",
       "      <td>Franco Armani owes his place at Russia 2018 to...</td>\n",
       "      <td>https://api.fifa.com/api/v1/picture/players/20...</td>\n",
       "      <td>FRANCO ARMANI</td>\n",
       "      <td>Goalkeeper</td>\n",
       "      <td>Franco</td>\n",
       "      <td>Armani</td>\n",
       "      <td>AUS</td>\n",
       "    </tr>\n",
       "    <tr>\n",
       "      <th>2</th>\n",
       "      <td>36</td>\n",
       "      <td>Australia</td>\n",
       "      <td>Willy Caballero is an experienced, unfussy goa...</td>\n",
       "      <td>https://api.fifa.com/api/v1/picture/players/20...</td>\n",
       "      <td>WILFREDO CABALLERO</td>\n",
       "      <td>Goalkeeper</td>\n",
       "      <td>Wilfredo</td>\n",
       "      <td>Caballero</td>\n",
       "      <td>AUS</td>\n",
       "    </tr>\n",
       "    <tr>\n",
       "      <th>3</th>\n",
       "      <td>31</td>\n",
       "      <td>Australia</td>\n",
       "      <td>NaN</td>\n",
       "      <td>https://api.fifa.com/api/v1/picture/players/20...</td>\n",
       "      <td>GABRIEL MERCADO</td>\n",
       "      <td>Defender</td>\n",
       "      <td>Gabriel</td>\n",
       "      <td>Mercado</td>\n",
       "      <td>AUS</td>\n",
       "    </tr>\n",
       "    <tr>\n",
       "      <th>4</th>\n",
       "      <td>25</td>\n",
       "      <td>Australia</td>\n",
       "      <td>“A natural full-back,” remarked Jorge Sampaoli...</td>\n",
       "      <td>https://api.fifa.com/api/v1/picture/players/20...</td>\n",
       "      <td>NICOLAS TAGLIAFICO</td>\n",
       "      <td>Defender</td>\n",
       "      <td>Nicolas</td>\n",
       "      <td>Tagliafico</td>\n",
       "      <td>AUS</td>\n",
       "    </tr>\n",
       "  </tbody>\n",
       "</table>\n",
       "</div>"
      ],
      "text/plain": [
       "   Age    Country                                        Description  \\\n",
       "0   32  Australia  Solidly built and a born competitor, Nahuel Gu...   \n",
       "1   31  Australia  Franco Armani owes his place at Russia 2018 to...   \n",
       "2   36  Australia  Willy Caballero is an experienced, unfussy goa...   \n",
       "3   31  Australia                                                NaN   \n",
       "4   25  Australia  “A natural full-back,” remarked Jorge Sampaoli...   \n",
       "\n",
       "                                                Link                Name  \\\n",
       "0  https://api.fifa.com/api/v1/picture/players/20...       NAHUEL GUZMAN   \n",
       "1  https://api.fifa.com/api/v1/picture/players/20...       FRANCO ARMANI   \n",
       "2  https://api.fifa.com/api/v1/picture/players/20...  WILFREDO CABALLERO   \n",
       "3  https://api.fifa.com/api/v1/picture/players/20...     GABRIEL MERCADO   \n",
       "4  https://api.fifa.com/api/v1/picture/players/20...  NICOLAS TAGLIAFICO   \n",
       "\n",
       "         Post Firstname    Lastname Code  \n",
       "0  Goalkeeper    Nahuel      Guzman  AUS  \n",
       "1  Goalkeeper    Franco      Armani  AUS  \n",
       "2  Goalkeeper  Wilfredo   Caballero  AUS  \n",
       "3    Defender   Gabriel     Mercado  AUS  \n",
       "4    Defender   Nicolas  Tagliafico  AUS  "
      ]
     },
     "execution_count": 4,
     "metadata": {},
     "output_type": "execute_result"
    }
   ],
   "source": [
    "df_worldcup = pd.read_csv(\"data_worldcup.csv\")\n",
    "df_worldcup.head()"
   ]
  },
  {
   "cell_type": "code",
   "execution_count": 6,
   "metadata": {},
   "outputs": [],
   "source": [
    "def image_downloader(name, team, link):\n",
    "    path = \"../DjangoWorldCup/worldcup/static/worldcup/img/players/\"\n",
    "    with open(path + team.capitalize() + '/' + name.capitalize() + '.jpg', 'wb') as handle:\n",
    "            response = requests.get(link, stream=True)\n",
    "\n",
    "            if not response.ok:\n",
    "                print(response)\n",
    "\n",
    "            for block in response.iter_content(1024):\n",
    "                if not block:\n",
    "                    break\n",
    "\n",
    "                handle.write(block)\n",
    "\n",
    "for country in [\"Costa\"]:\n",
    "    for n, t, l in zip(df_worldcup[df_worldcup[\"Country\"] == country][\"Lastname\"].tolist(), \n",
    "                       df_worldcup[df_worldcup[\"Country\"] == country][\"Country\"].tolist(), \n",
    "                       df_worldcup[df_worldcup[\"Country\"] == country][\"Link\"].tolist()):\n",
    "        image_downloader(n, t, l)"
   ]
  },
  {
   "cell_type": "code",
   "execution_count": null,
   "metadata": {},
   "outputs": [],
   "source": []
  }
 ],
 "metadata": {
  "kernelspec": {
   "display_name": "Py3_BetIT",
   "language": "python",
   "name": "py3_betit"
  },
  "language_info": {
   "codemirror_mode": {
    "name": "ipython",
    "version": 3
   },
   "file_extension": ".py",
   "mimetype": "text/x-python",
   "name": "python",
   "nbconvert_exporter": "python",
   "pygments_lexer": "ipython3",
   "version": "3.6.2"
  },
  "toc": {
   "nav_menu": {},
   "number_sections": true,
   "sideBar": true,
   "skip_h1_title": false,
   "toc_cell": true,
   "toc_position": {},
   "toc_section_display": "block",
   "toc_window_display": true
  }
 },
 "nbformat": 4,
 "nbformat_minor": 2
}
