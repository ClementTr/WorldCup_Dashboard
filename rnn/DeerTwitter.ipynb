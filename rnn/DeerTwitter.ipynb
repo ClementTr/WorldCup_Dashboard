{
 "cells": [
  {
   "cell_type": "code",
   "execution_count": 1,
   "metadata": {},
   "outputs": [
    {
     "name": "stderr",
     "output_type": "stream",
     "text": [
      "/Users/clementtailleur/Documents/BetIt/Py3_BetIT/lib/python3.6/site-packages/h5py/__init__.py:36: FutureWarning: Conversion of the second argument of issubdtype from `float` to `np.floating` is deprecated. In future, it will be treated as `np.float64 == np.dtype(float).type`.\n",
      "  from ._conv import register_converters as _register_converters\n",
      "Using TensorFlow backend.\n"
     ]
    }
   ],
   "source": [
    "from collections import Counter\n",
    "from pymongo import MongoClient\n",
    "import pandas as pd\n",
    "import numpy as np\n",
    "import keras\n",
    "import re"
   ]
  },
  {
   "cell_type": "code",
   "execution_count": 2,
   "metadata": {},
   "outputs": [
    {
     "data": {
      "text/html": [
       "<div>\n",
       "<style>\n",
       "    .dataframe thead tr:only-child th {\n",
       "        text-align: right;\n",
       "    }\n",
       "\n",
       "    .dataframe thead th {\n",
       "        text-align: left;\n",
       "    }\n",
       "\n",
       "    .dataframe tbody tr th {\n",
       "        vertical-align: top;\n",
       "    }\n",
       "</style>\n",
       "<table border=\"1\" class=\"dataframe\">\n",
       "  <thead>\n",
       "    <tr style=\"text-align: right;\">\n",
       "      <th></th>\n",
       "      <th>created_at</th>\n",
       "      <th>favorite_count</th>\n",
       "      <th>location</th>\n",
       "      <th>retweeted</th>\n",
       "      <th>retweeted_count</th>\n",
       "      <th>text</th>\n",
       "    </tr>\n",
       "  </thead>\n",
       "  <tbody>\n",
       "    <tr>\n",
       "      <th>0</th>\n",
       "      <td>2018-05-26 13:20:00</td>\n",
       "      <td>0</td>\n",
       "      <td>None</td>\n",
       "      <td>False</td>\n",
       "      <td>0</td>\n",
       "      <td>RT @LFC: When you turn around and spot @Alex_O...</td>\n",
       "    </tr>\n",
       "    <tr>\n",
       "      <th>1</th>\n",
       "      <td>2018-05-26 13:20:01</td>\n",
       "      <td>0</td>\n",
       "      <td>JHB|FREE STATE|NORTHERN CAPE|NORTH WEST</td>\n",
       "      <td>False</td>\n",
       "      <td>0</td>\n",
       "      <td>Real Madrid or Liverpool? 🏆\\nRonaldo or M.Sala...</td>\n",
       "    </tr>\n",
       "    <tr>\n",
       "      <th>2</th>\n",
       "      <td>2018-05-26 13:20:00</td>\n",
       "      <td>0</td>\n",
       "      <td>UK &amp; Ireland</td>\n",
       "      <td>False</td>\n",
       "      <td>0</td>\n",
       "      <td>Massive #UCLfinal offer! ⚽️\\n\\nBack #RMFC at 4...</td>\n",
       "    </tr>\n",
       "    <tr>\n",
       "      <th>3</th>\n",
       "      <td>2018-05-26 13:20:02</td>\n",
       "      <td>0</td>\n",
       "      <td>Bolton</td>\n",
       "      <td>False</td>\n",
       "      <td>0</td>\n",
       "      <td>RT @paddypower: Ahead of the Champions League ...</td>\n",
       "    </tr>\n",
       "    <tr>\n",
       "      <th>4</th>\n",
       "      <td>2018-05-26 13:20:02</td>\n",
       "      <td>0</td>\n",
       "      <td>None</td>\n",
       "      <td>False</td>\n",
       "      <td>0</td>\n",
       "      <td>RT @ninanaka: Hope it will be an unforgettable...</td>\n",
       "    </tr>\n",
       "  </tbody>\n",
       "</table>\n",
       "</div>"
      ],
      "text/plain": [
       "           created_at  favorite_count  \\\n",
       "0 2018-05-26 13:20:00               0   \n",
       "1 2018-05-26 13:20:01               0   \n",
       "2 2018-05-26 13:20:00               0   \n",
       "3 2018-05-26 13:20:02               0   \n",
       "4 2018-05-26 13:20:02               0   \n",
       "\n",
       "                                  location  retweeted  retweeted_count  \\\n",
       "0                                     None      False                0   \n",
       "1  JHB|FREE STATE|NORTHERN CAPE|NORTH WEST      False                0   \n",
       "2                             UK & Ireland      False                0   \n",
       "3                                  Bolton       False                0   \n",
       "4                                     None      False                0   \n",
       "\n",
       "                                                text  \n",
       "0  RT @LFC: When you turn around and spot @Alex_O...  \n",
       "1  Real Madrid or Liverpool? 🏆\\nRonaldo or M.Sala...  \n",
       "2  Massive #UCLfinal offer! ⚽️\\n\\nBack #RMFC at 4...  \n",
       "3  RT @paddypower: Ahead of the Champions League ...  \n",
       "4  RT @ninanaka: Hope it will be an unforgettable...  "
      ]
     },
     "execution_count": 2,
     "metadata": {},
     "output_type": "execute_result"
    }
   ],
   "source": [
    "def _connect_mongo(host, port, db):\n",
    "    \"\"\" A util for making a connection to mongo \"\"\"\n",
    "    conn = MongoClient(host, port)\n",
    "    return conn[db]\n",
    "\n",
    "\n",
    "def read_mongo(db, collection, query={}, host='localhost', port=27017, username=None, password=None, no_id=True):\n",
    "    \"\"\" Read from Mongo and Store into DataFrame \"\"\"\n",
    "\n",
    "    # Connect to MongoDB\n",
    "    db = _connect_mongo(host=host, port=port, db=db)\n",
    "\n",
    "    # Make a query to the specific DB and Collection\n",
    "    cursor = db[collection].find(query)\n",
    "\n",
    "    # Expand the cursor and construct the DataFrame\n",
    "    df =  pd.DataFrame(list(cursor))\n",
    "\n",
    "    # Delete the _id\n",
    "    if no_id:\n",
    "        del df['_id']\n",
    "\n",
    "    return df\n",
    "\n",
    "df = read_mongo(db=\"WorldCup\", collection=\"Tweets\", no_id=True)\n",
    "df.head()"
   ]
  },
  {
   "cell_type": "code",
   "execution_count": 3,
   "metadata": {},
   "outputs": [
    {
     "data": {
      "text/plain": [
       "(184310, 6)"
      ]
     },
     "execution_count": 3,
     "metadata": {},
     "output_type": "execute_result"
    }
   ],
   "source": [
    "df.drop_duplicates(subset=\"text\", keep='first', inplace=True)\n",
    "df.shape"
   ]
  },
  {
   "cell_type": "code",
   "execution_count": 4,
   "metadata": {},
   "outputs": [
    {
     "name": "stdout",
     "output_type": "stream",
     "text": [
      "CPU times: user 18min 1s, sys: 3.34 s, total: 18min 5s\n",
      "Wall time: 18min 11s\n"
     ]
    }
   ],
   "source": [
    "%%time\n",
    "HASHTAG = \"#UCLfinal\"\n",
    "def clean_tweets(text):\n",
    "    text_clean = re.sub(r\"^RT \\@(.*)\\:\", \"\", text)\n",
    "    text_clean = re.sub(HASHTAG, \"\", text_clean)\n",
    "    text_clean = text_clean.lower()\n",
    "    text_clean = re.sub(r\"(?m)^\\s+\", \"\", text_clean)\n",
    "    text_clean = re.sub(\"\\n\", \" \", text_clean)\n",
    "    text_clean = re.sub(r\"\"\"(?:(?:https?|ftp):\\/\\/|\\b(?:[a-z\\d]+\\.))(?:(?:[^\\s()<>]+|\\((?:[^\\s()<>]+|(?:\\([^\\s()<>]+\\)))?\\))+(?:\\((?:[^\\s()<>]+|(?:\\(?:[^\\s()<>]+\\)))?\\)|[^\\s`!()\\[\\]{};:'\".,<>?«»“”‘’]))?\"\"\", \"\", text_clean)\n",
    "    text_clean = re.sub(\"//\", \"\", text_clean)\n",
    "    return text_clean\n",
    "\n",
    "df[\"tweets_cleaned\"] = df[\"text\"].apply(lambda x: clean_tweets(x))"
   ]
  },
  {
   "cell_type": "code",
   "execution_count": 5,
   "metadata": {},
   "outputs": [
    {
     "data": {
      "text/plain": [
       "(176952, 7)"
      ]
     },
     "execution_count": 5,
     "metadata": {},
     "output_type": "execute_result"
    }
   ],
   "source": [
    "df_not_empty = df[df[\"tweets_cleaned\"] != \"\"].copy()\n",
    "df_not_empty.shape"
   ]
  },
  {
   "cell_type": "code",
   "execution_count": 6,
   "metadata": {},
   "outputs": [
    {
     "data": {
      "text/html": [
       "<div>\n",
       "<style>\n",
       "    .dataframe thead tr:only-child th {\n",
       "        text-align: right;\n",
       "    }\n",
       "\n",
       "    .dataframe thead th {\n",
       "        text-align: left;\n",
       "    }\n",
       "\n",
       "    .dataframe tbody tr th {\n",
       "        vertical-align: top;\n",
       "    }\n",
       "</style>\n",
       "<table border=\"1\" class=\"dataframe\">\n",
       "  <thead>\n",
       "    <tr style=\"text-align: right;\">\n",
       "      <th></th>\n",
       "      <th>created_at</th>\n",
       "      <th>favorite_count</th>\n",
       "      <th>location</th>\n",
       "      <th>retweeted</th>\n",
       "      <th>retweeted_count</th>\n",
       "      <th>text</th>\n",
       "      <th>tweets_cleaned</th>\n",
       "      <th>len_tweet_cleaned</th>\n",
       "    </tr>\n",
       "  </thead>\n",
       "  <tbody>\n",
       "    <tr>\n",
       "      <th>0</th>\n",
       "      <td>2018-05-26 13:20:00</td>\n",
       "      <td>0</td>\n",
       "      <td>None</td>\n",
       "      <td>False</td>\n",
       "      <td>0</td>\n",
       "      <td>RT @LFC: When you turn around and spot @Alex_O...</td>\n",
       "      <td>when you turn around and spot @alex_oxchambo a...</td>\n",
       "      <td>12</td>\n",
       "    </tr>\n",
       "    <tr>\n",
       "      <th>1</th>\n",
       "      <td>2018-05-26 13:20:01</td>\n",
       "      <td>0</td>\n",
       "      <td>JHB|FREE STATE|NORTHERN CAPE|NORTH WEST</td>\n",
       "      <td>False</td>\n",
       "      <td>0</td>\n",
       "      <td>Real Madrid or Liverpool? 🏆\\nRonaldo or M.Sala...</td>\n",
       "      <td>real madrid or liverpool? 🏆 ronaldo or  #uclfi...</td>\n",
       "      <td>10</td>\n",
       "    </tr>\n",
       "    <tr>\n",
       "      <th>2</th>\n",
       "      <td>2018-05-26 13:20:00</td>\n",
       "      <td>0</td>\n",
       "      <td>UK &amp; Ireland</td>\n",
       "      <td>False</td>\n",
       "      <td>0</td>\n",
       "      <td>Massive #UCLfinal offer! ⚽️\\n\\nBack #RMFC at 4...</td>\n",
       "      <td>massive  offer! ⚽️ back #rmfc at 40/1 or #lfc ...</td>\n",
       "      <td>14</td>\n",
       "    </tr>\n",
       "    <tr>\n",
       "      <th>4</th>\n",
       "      <td>2018-05-26 13:20:02</td>\n",
       "      <td>0</td>\n",
       "      <td>None</td>\n",
       "      <td>False</td>\n",
       "      <td>0</td>\n",
       "      <td>RT @ninanaka: Hope it will be an unforgettable...</td>\n",
       "      <td>hope it will be an unforgettable journey for t...</td>\n",
       "      <td>16</td>\n",
       "    </tr>\n",
       "    <tr>\n",
       "      <th>5</th>\n",
       "      <td>2018-05-26 13:20:02</td>\n",
       "      <td>0</td>\n",
       "      <td>Verulam, South Africa</td>\n",
       "      <td>False</td>\n",
       "      <td>0</td>\n",
       "      <td>RT @MelissaReddy_: \"Pick any continent, any co...</td>\n",
       "      <td>\"pick any continent, any country, any city and...</td>\n",
       "      <td>20</td>\n",
       "    </tr>\n",
       "  </tbody>\n",
       "</table>\n",
       "</div>"
      ],
      "text/plain": [
       "           created_at  favorite_count  \\\n",
       "0 2018-05-26 13:20:00               0   \n",
       "1 2018-05-26 13:20:01               0   \n",
       "2 2018-05-26 13:20:00               0   \n",
       "4 2018-05-26 13:20:02               0   \n",
       "5 2018-05-26 13:20:02               0   \n",
       "\n",
       "                                  location  retweeted  retweeted_count  \\\n",
       "0                                     None      False                0   \n",
       "1  JHB|FREE STATE|NORTHERN CAPE|NORTH WEST      False                0   \n",
       "2                             UK & Ireland      False                0   \n",
       "4                                     None      False                0   \n",
       "5                    Verulam, South Africa      False                0   \n",
       "\n",
       "                                                text  \\\n",
       "0  RT @LFC: When you turn around and spot @Alex_O...   \n",
       "1  Real Madrid or Liverpool? 🏆\\nRonaldo or M.Sala...   \n",
       "2  Massive #UCLfinal offer! ⚽️\\n\\nBack #RMFC at 4...   \n",
       "4  RT @ninanaka: Hope it will be an unforgettable...   \n",
       "5  RT @MelissaReddy_: \"Pick any continent, any co...   \n",
       "\n",
       "                                      tweets_cleaned  len_tweet_cleaned  \n",
       "0  when you turn around and spot @alex_oxchambo a...                 12  \n",
       "1  real madrid or liverpool? 🏆 ronaldo or  #uclfi...                 10  \n",
       "2  massive  offer! ⚽️ back #rmfc at 40/1 or #lfc ...                 14  \n",
       "4  hope it will be an unforgettable journey for t...                 16  \n",
       "5  \"pick any continent, any country, any city and...                 20  "
      ]
     },
     "execution_count": 6,
     "metadata": {},
     "output_type": "execute_result"
    }
   ],
   "source": [
    "df_not_empty[\"len_tweet_cleaned\"] = df_not_empty[\"tweets_cleaned\"].apply(lambda x: len(x.split()))\n",
    "df_not_empty.head()"
   ]
  },
  {
   "cell_type": "code",
   "execution_count": 7,
   "metadata": {},
   "outputs": [
    {
     "data": {
      "text/plain": [
       "(155700, 8)"
      ]
     },
     "execution_count": 7,
     "metadata": {},
     "output_type": "execute_result"
    }
   ],
   "source": [
    "df_valid = df_not_empty[df_not_empty[\"len_tweet_cleaned\"] > 3]\n",
    "df_valid.shape"
   ]
  },
  {
   "cell_type": "code",
   "execution_count": 8,
   "metadata": {},
   "outputs": [
    {
     "name": "stdout",
     "output_type": "stream",
     "text": [
      "Nombre de mots: 1711574\n"
     ]
    }
   ],
   "source": [
    "def flat_list(l):\n",
    "    list_final = []\n",
    "    for i in l:\n",
    "        if type(i) is list:\n",
    "            list_final.extend(i)\n",
    "        else:\n",
    "            list_final.append(i)\n",
    "    return list_final\n",
    "\n",
    "def TM_SC_create_words(list_text, nb_min_word = 2):\n",
    "    list_list_words = [re.findall(r\"\\w+\",x) for x in list_text]\n",
    "    WORDS = Counter(flat_list(list_list_words))\n",
    "    WORDS_to_correct = {k:v for (k,v) in WORDS.items() if v <nb_min_word} #Dictionnaire ajouter key value\n",
    "    WORDS = {k:v for (k,v) in WORDS.items() if v >=nb_min_word}\n",
    "    return WORDS, WORDS_to_correct\n",
    "\n",
    "\n",
    "\n",
    "WORDS, WORDS_to_correct = TM_SC_create_words(df_valid[\"tweets_cleaned\"].values)\n",
    "s = 0\n",
    "for v in WORDS.values(): s += v\n",
    "print(\"Nombre de mots:\", s)"
   ]
  },
  {
   "cell_type": "code",
   "execution_count": null,
   "metadata": {},
   "outputs": [],
   "source": []
  }
 ],
 "metadata": {
  "kernelspec": {
   "display_name": "Py3_BetIT",
   "language": "python",
   "name": "py3_betit"
  },
  "language_info": {
   "codemirror_mode": {
    "name": "ipython",
    "version": 3
   },
   "file_extension": ".py",
   "mimetype": "text/x-python",
   "name": "python",
   "nbconvert_exporter": "python",
   "pygments_lexer": "ipython3",
   "version": "3.6.2"
  },
  "toc": {
   "nav_menu": {},
   "number_sections": true,
   "sideBar": true,
   "skip_h1_title": false,
   "toc_cell": false,
   "toc_position": {},
   "toc_section_display": "block",
   "toc_window_display": false
  }
 },
 "nbformat": 4,
 "nbformat_minor": 2
}
